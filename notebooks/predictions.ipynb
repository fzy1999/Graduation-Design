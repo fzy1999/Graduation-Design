{
 "cells": [
  {
   "cell_type": "markdown",
   "metadata": {
    "collapsed": false
   },
   "source": [
    "# Simple predictions with a trained model"
   ]
  },
  {
   "cell_type": "code",
   "execution_count": 1,
   "metadata": {
    "ExecuteTime": {
     "end_time": "2023-09-17T17:47:02.633439Z",
     "start_time": "2023-09-17T17:47:00.702800Z"
    },
    "collapsed": false
   },
   "outputs": [
    {
     "name": "stderr",
     "output_type": "stream",
     "text": [
      "WARNING:2023-11-28 23:05:23 5639:5639 init.cpp:155] function cbapi->getCuptiStatus() failed with error CUPTI_ERROR_NOT_INITIALIZED (15)\n",
      "WARNING:2023-11-28 23:05:23 5639:5639 init.cpp:156] CUPTI initialization failed - CUDA profiler activities will be missing\n",
      "INFO:2023-11-28 23:05:23 5639:5639 init.cpp:158] If you see CUPTI_ERROR_INSUFFICIENT_PRIVILEGES, refer to https://developer.nvidia.com/nvidia-development-tools-solutions-err-nvgpuctrperm-cupti\n"
     ]
    }
   ],
   "source": [
    "# This needs to be imported because the model uses a custom classes that need to be registered\n",
    "from src.sketch_detection_rcnn.roi_heads import SketchROIHeads  # noqa # pylint: disable=unused-import"
   ]
  },
  {
   "cell_type": "code",
   "execution_count": 6,
   "metadata": {
    "ExecuteTime": {
     "end_time": "2023-09-17T17:47:02.634267Z",
     "start_time": "2023-09-17T17:47:02.633089Z"
    },
    "collapsed": false
   },
   "outputs": [],
   "source": [
    "import os\n",
    "from src.utils.utils_json import read_json\n",
    "\n",
    "model_name = 'fcb_7'\n",
    "\n",
    "filename = os.path.join(\"reports\", f\"{model_name}.json\")\n",
    "model_meta = read_json(filename)\n",
    "\n",
    "if \"model_name\" not in model_meta:\n",
    "    model_meta[\"model_name\"] = model_meta\n"
   ]
  },
  {
   "cell_type": "code",
   "execution_count": 7,
   "metadata": {
    "ExecuteTime": {
     "end_time": "2023-09-17T17:47:04.892134Z",
     "start_time": "2023-09-17T17:47:02.634160Z"
    },
    "collapsed": false
   },
   "outputs": [],
   "source": [
    "from detectron2.engine import DefaultPredictor\n",
    "from detectron2.config import get_cfg\n",
    "\n",
    "cfg = get_cfg()\n",
    "cfg.merge_from_file(model_meta[\"config_file\"])\n",
    "\n",
    "# path to the model we just trained\n",
    "cfg.MODEL.WEIGHTS = os.path.join(\"models\", model_name, \"model_final.pth\")\n",
    "cfg.MODEL.ROI_HEADS.SCORE_THRESH_TEST = 0.4  # set a custom testing threshold\n",
    "predictor = DefaultPredictor(cfg)"
   ]
  },
  {
   "cell_type": "code",
   "execution_count": 8,
   "metadata": {
    "ExecuteTime": {
     "end_time": "2023-09-17T17:47:04.892632Z",
     "start_time": "2023-09-17T17:47:04.886774Z"
    },
    "collapsed": false
   },
   "outputs": [],
   "source": [
    "def count_classes(classes: list[int]) -> dict[int, int]:\n",
    "    class_count = {}\n",
    "    for key in classes:\n",
    "        if key in class_count:\n",
    "            class_count[key] += 1\n",
    "        else:\n",
    "            class_count[key] = 1\n",
    "\n",
    "    return class_count"
   ]
  },
  {
   "cell_type": "code",
   "execution_count": 9,
   "metadata": {
    "ExecuteTime": {
     "end_time": "2023-09-17T17:47:06.677804Z",
     "start_time": "2023-09-17T17:47:04.887550Z"
    },
    "collapsed": false
   },
   "outputs": [
    {
     "name": "stderr",
     "output_type": "stream",
     "text": [
      "[ WARN:0@170.423] global loadsave.cpp:248 findDecoder imread_('./data/test.jpg'): can't open/read file: check file path/integrity\n"
     ]
    },
    {
     "ename": "AttributeError",
     "evalue": "'NoneType' object has no attribute 'shape'",
     "output_type": "error",
     "traceback": [
      "\u001b[0;31m---------------------------------------------------------------------------\u001b[0m",
      "\u001b[0;31mAttributeError\u001b[0m                            Traceback (most recent call last)",
      "\u001b[1;32m/home/fzy/SourceCode/lissa-diagram-recognition/notebooks/predictions.ipynb 单元格 6\u001b[0m line \u001b[0;36m6\n\u001b[1;32m      <a href='vscode-notebook-cell://ssh-remote%2B172.30.87.32/home/fzy/SourceCode/lissa-diagram-recognition/notebooks/predictions.ipynb#W5sdnNjb2RlLXJlbW90ZQ%3D%3D?line=2'>3</a>\u001b[0m \u001b[39mfrom\u001b[39;00m \u001b[39msrc\u001b[39;00m\u001b[39m.\u001b[39;00m\u001b[39mvisualization\u001b[39;00m\u001b[39m.\u001b[39;00m\u001b[39mvisualize\u001b[39;00m \u001b[39mimport\u001b[39;00m show_img\n\u001b[1;32m      <a href='vscode-notebook-cell://ssh-remote%2B172.30.87.32/home/fzy/SourceCode/lissa-diagram-recognition/notebooks/predictions.ipynb#W5sdnNjb2RlLXJlbW90ZQ%3D%3D?line=4'>5</a>\u001b[0m im \u001b[39m=\u001b[39m cv2\u001b[39m.\u001b[39mimread(\u001b[39m\"\u001b[39m\u001b[39m./data/test.jpg\u001b[39m\u001b[39m\"\u001b[39m)\n\u001b[0;32m----> <a href='vscode-notebook-cell://ssh-remote%2B172.30.87.32/home/fzy/SourceCode/lissa-diagram-recognition/notebooks/predictions.ipynb#W5sdnNjb2RlLXJlbW90ZQ%3D%3D?line=5'>6</a>\u001b[0m outputs \u001b[39m=\u001b[39m predictor(im)\n\u001b[1;32m      <a href='vscode-notebook-cell://ssh-remote%2B172.30.87.32/home/fzy/SourceCode/lissa-diagram-recognition/notebooks/predictions.ipynb#W5sdnNjb2RlLXJlbW90ZQ%3D%3D?line=7'>8</a>\u001b[0m \u001b[39m# remove the colors of unsegmented pixels. This option is only available for segmentation models\u001b[39;00m\n\u001b[1;32m      <a href='vscode-notebook-cell://ssh-remote%2B172.30.87.32/home/fzy/SourceCode/lissa-diagram-recognition/notebooks/predictions.ipynb#W5sdnNjb2RlLXJlbW90ZQ%3D%3D?line=8'>9</a>\u001b[0m visualizer \u001b[39m=\u001b[39m Visualizer(im, scale\u001b[39m=\u001b[39m\u001b[39m0.5\u001b[39m)\n",
      "File \u001b[0;32m~/.local/lib/python3.11/site-packages/detectron2/engine/defaults.py:312\u001b[0m, in \u001b[0;36mDefaultPredictor.__call__\u001b[0;34m(self, original_image)\u001b[0m\n\u001b[1;32m    309\u001b[0m \u001b[39mif\u001b[39;00m \u001b[39mself\u001b[39m\u001b[39m.\u001b[39minput_format \u001b[39m==\u001b[39m \u001b[39m\"\u001b[39m\u001b[39mRGB\u001b[39m\u001b[39m\"\u001b[39m:\n\u001b[1;32m    310\u001b[0m     \u001b[39m# whether the model expects BGR inputs or RGB\u001b[39;00m\n\u001b[1;32m    311\u001b[0m     original_image \u001b[39m=\u001b[39m original_image[:, :, ::\u001b[39m-\u001b[39m\u001b[39m1\u001b[39m]\n\u001b[0;32m--> 312\u001b[0m height, width \u001b[39m=\u001b[39m original_image\u001b[39m.\u001b[39;49mshape[:\u001b[39m2\u001b[39m]\n\u001b[1;32m    313\u001b[0m image \u001b[39m=\u001b[39m \u001b[39mself\u001b[39m\u001b[39m.\u001b[39maug\u001b[39m.\u001b[39mget_transform(original_image)\u001b[39m.\u001b[39mapply_image(original_image)\n\u001b[1;32m    314\u001b[0m image \u001b[39m=\u001b[39m torch\u001b[39m.\u001b[39mas_tensor(image\u001b[39m.\u001b[39mastype(\u001b[39m\"\u001b[39m\u001b[39mfloat32\u001b[39m\u001b[39m\"\u001b[39m)\u001b[39m.\u001b[39mtranspose(\u001b[39m2\u001b[39m, \u001b[39m0\u001b[39m, \u001b[39m1\u001b[39m))\n",
      "\u001b[0;31mAttributeError\u001b[0m: 'NoneType' object has no attribute 'shape'"
     ]
    }
   ],
   "source": [
    "import cv2\n",
    "from detectron2.utils.visualizer import Visualizer\n",
    "from src.visualization.visualize import show_img\n",
    "\n",
    "im = cv2.imread(\"./data/test.jpg\")\n",
    "outputs = predictor(im)\n",
    "\n",
    "# remove the colors of unsegmented pixels. This option is only available for segmentation models\n",
    "visualizer = Visualizer(im, scale=0.5)\n",
    "\n",
    "print(\"Predictions\")\n",
    "pred_out = visualizer.draw_instance_predictions(outputs[\"instances\"].to(\"cpu\"))\n",
    "show_img(pred_out.get_image())"
   ]
  }
 ],
 "metadata": {
  "kernelspec": {
   "display_name": "Python 3",
   "language": "python",
   "name": "python3"
  },
  "language_info": {
   "codemirror_mode": {
    "name": "ipython",
    "version": 3
   },
   "file_extension": ".py",
   "mimetype": "text/x-python",
   "name": "python",
   "nbconvert_exporter": "python",
   "pygments_lexer": "ipython3",
   "version": "3.11.3"
  }
 },
 "nbformat": 4,
 "nbformat_minor": 0
}
